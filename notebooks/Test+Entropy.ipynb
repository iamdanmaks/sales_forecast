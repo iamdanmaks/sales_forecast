{
  "nbformat": 4,
  "nbformat_minor": 0,
  "metadata": {
    "kernelspec": {
      "display_name": "Python 3",
      "language": "python",
      "name": "python3"
    },
    "language_info": {
      "codemirror_mode": {
        "name": "ipython",
        "version": 3
      },
      "file_extension": ".py",
      "mimetype": "text/x-python",
      "name": "python",
      "nbconvert_exporter": "python",
      "pygments_lexer": "ipython3",
      "version": "3.7.4"
    },
    "colab": {
      "name": "temp.ipynb",
      "provenance": []
    }
  },
  "cells": [
    {
      "cell_type": "code",
      "metadata": {
        "id": "Cn9V3lLztmwV",
        "colab_type": "code",
        "colab": {}
      },
      "source": [
        "import pandas as pd\n",
        "import numpy as np\n",
        "from numpy import log\n",
        "from statsmodels.tsa.stattools import adfuller"
      ],
      "execution_count": null,
      "outputs": []
    },
    {
      "cell_type": "code",
      "metadata": {
        "id": "3dn6xpzBtmwa",
        "colab_type": "code",
        "colab": {},
        "outputId": "0c36fd54-9d1f-48ac-dec2-4077f8b48391"
      },
      "source": [
        "df = pd.read_csv('123.csv')\n"
      ],
      "execution_count": null,
      "outputs": [
        {
          "output_type": "execute_result",
          "data": {
            "text/html": [
              "<div>\n",
              "<style scoped>\n",
              "    .dataframe tbody tr th:only-of-type {\n",
              "        vertical-align: middle;\n",
              "    }\n",
              "\n",
              "    .dataframe tbody tr th {\n",
              "        vertical-align: top;\n",
              "    }\n",
              "\n",
              "    .dataframe thead th {\n",
              "        text-align: right;\n",
              "    }\n",
              "</style>\n",
              "<table border=\"1\" class=\"dataframe\">\n",
              "  <thead>\n",
              "    <tr style=\"text-align: right;\">\n",
              "      <th></th>\n",
              "      <th>Sales</th>\n",
              "      <th>Dates_count</th>\n",
              "    </tr>\n",
              "  </thead>\n",
              "  <tbody>\n",
              "    <tr>\n",
              "      <td>0</td>\n",
              "      <td>11097</td>\n",
              "      <td>3</td>\n",
              "    </tr>\n",
              "    <tr>\n",
              "      <td>1</td>\n",
              "      <td>1676</td>\n",
              "      <td>3</td>\n",
              "    </tr>\n",
              "    <tr>\n",
              "      <td>2</td>\n",
              "      <td>5734</td>\n",
              "      <td>3</td>\n",
              "    </tr>\n",
              "    <tr>\n",
              "      <td>3</td>\n",
              "      <td>4441</td>\n",
              "      <td>3</td>\n",
              "    </tr>\n",
              "    <tr>\n",
              "      <td>4</td>\n",
              "      <td>3474</td>\n",
              "      <td>3</td>\n",
              "    </tr>\n",
              "    <tr>\n",
              "      <td>...</td>\n",
              "      <td>...</td>\n",
              "      <td>...</td>\n",
              "    </tr>\n",
              "    <tr>\n",
              "      <td>1569</td>\n",
              "      <td>3941</td>\n",
              "      <td>1</td>\n",
              "    </tr>\n",
              "    <tr>\n",
              "      <td>1570</td>\n",
              "      <td>3148</td>\n",
              "      <td>1</td>\n",
              "    </tr>\n",
              "    <tr>\n",
              "      <td>1571</td>\n",
              "      <td>6267</td>\n",
              "      <td>1</td>\n",
              "    </tr>\n",
              "    <tr>\n",
              "      <td>1572</td>\n",
              "      <td>3195</td>\n",
              "      <td>1</td>\n",
              "    </tr>\n",
              "    <tr>\n",
              "      <td>1573</td>\n",
              "      <td>5709</td>\n",
              "      <td>1</td>\n",
              "    </tr>\n",
              "  </tbody>\n",
              "</table>\n",
              "<p>1574 rows × 2 columns</p>\n",
              "</div>"
            ],
            "text/plain": [
              "      Sales  Dates_count\n",
              "0     11097            3\n",
              "1      1676            3\n",
              "2      5734            3\n",
              "3      4441            3\n",
              "4      3474            3\n",
              "...     ...          ...\n",
              "1569   3941            1\n",
              "1570   3148            1\n",
              "1571   6267            1\n",
              "1572   3195            1\n",
              "1573   5709            1\n",
              "\n",
              "[1574 rows x 2 columns]"
            ]
          },
          "metadata": {
            "tags": []
          },
          "execution_count": 15
        }
      ]
    },
    {
      "cell_type": "code",
      "metadata": {
        "id": "ivrk1ZqTtmwd",
        "colab_type": "code",
        "colab": {},
        "outputId": "97cce2b1-c79e-46ef-ef32-9ff07374e1ef"
      },
      "source": [
        "sum(df['Sales'].values)"
      ],
      "execution_count": null,
      "outputs": [
        {
          "output_type": "execute_result",
          "data": {
            "text/plain": [
              "15961663"
            ]
          },
          "metadata": {
            "tags": []
          },
          "execution_count": 30
        }
      ]
    },
    {
      "cell_type": "code",
      "metadata": {
        "id": "xjqZXo3Ytmwg",
        "colab_type": "code",
        "colab": {},
        "outputId": "edc13b63-896b-4329-9e0f-88736cedce56"
      },
      "source": [
        "X = df['Sales'].values\n",
        "X = np.log(X)\n",
        "result = adfuller(X)\n",
        "print('ADF Statistic: %f' % result[0])\n",
        "print('p-value: %f' % result[1])\n",
        "for key, value in result[4].items():\n",
        "  print('\\t%s: %.3f' % (key, value))"
      ],
      "execution_count": null,
      "outputs": [
        {
          "output_type": "stream",
          "text": [
            "[11097  1676  5734 ...  6267  3195  5709]\n",
            "ADF Statistic: -3.572534\n",
            "p-value: 0.006308\n",
            "\t1%: -3.435\n",
            "\t5%: -2.863\n",
            "\t10%: -2.568\n"
          ],
          "name": "stdout"
        }
      ]
    },
    {
      "cell_type": "code",
      "metadata": {
        "id": "82QYq9whtmwi",
        "colab_type": "code",
        "colab": {},
        "outputId": "98264d87-a47c-44d7-f7da-3d7d09e6021e"
      },
      "source": [
        ""
      ],
      "execution_count": null,
      "outputs": [
        {
          "output_type": "execute_result",
          "data": {
            "text/plain": [
              "array([9.31443008, 7.42416528, 8.65416865, ..., 8.74305305, 8.06934237,\n",
              "       8.64979916])"
            ]
          },
          "metadata": {
            "tags": []
          },
          "execution_count": 26
        }
      ]
    },
    {
      "cell_type": "code",
      "metadata": {
        "id": "Xrd2p-_Mtmwl",
        "colab_type": "code",
        "colab": {}
      },
      "source": [
        "def sampen(L, m, r):\n",
        "    N = len(L)\n",
        "    B = 0.0\n",
        "    A = 0.0\n",
        "    \n",
        "    \n",
        "    # Split time series and save all templates of length m\n",
        "    xmi = np.array([L[i : i + m] for i in range(N - m)])\n",
        "    xmj = np.array([L[i : i + m] for i in range(N - m + 1)])\n",
        "\n",
        "    # Save all matches minus the self-match, compute B\n",
        "    B = np.sum([np.sum(np.abs(xmii - xmj).max(axis=1) <= r) - 1 for xmii in xmi])\n",
        "\n",
        "    # Similar for computing A\n",
        "    m += 1\n",
        "    xm = np.array([L[i : i + m] for i in range(N - m + 1)])\n",
        "\n",
        "    A = np.sum([np.sum(np.abs(xmi - xm).max(axis=1) <= r) - 1 for xmi in xm])\n",
        "\n",
        "    # Return SampEn\n",
        "    return -np.log(A / B)"
      ],
      "execution_count": null,
      "outputs": []
    },
    {
      "cell_type": "code",
      "metadata": {
        "id": "GMdd95trtmwn",
        "colab_type": "code",
        "colab": {},
        "outputId": "f60b01b0-65da-4fae-da10-c3b2c5ac41a0"
      },
      "source": [
        "sampen(X, 2, np.std(X) * 0.2)"
      ],
      "execution_count": null,
      "outputs": [
        {
          "output_type": "execute_result",
          "data": {
            "text/plain": [
              "1.8092156555871992"
            ]
          },
          "metadata": {
            "tags": []
          },
          "execution_count": 24
        }
      ]
    },
    {
      "cell_type": "code",
      "metadata": {
        "id": "DvF5f8RGtmwr",
        "colab_type": "code",
        "colab": {},
        "outputId": "b23f8da9-4073-4adb-9cbf-408814dd2861"
      },
      "source": [
        ""
      ],
      "execution_count": null,
      "outputs": [
        {
          "output_type": "execute_result",
          "data": {
            "text/plain": [
              "13960.632433529376"
            ]
          },
          "metadata": {
            "tags": []
          },
          "execution_count": 25
        }
      ]
    }
  ]
}
