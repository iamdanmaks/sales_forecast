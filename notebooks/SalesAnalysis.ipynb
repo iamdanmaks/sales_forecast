{
  "nbformat": 4,
  "nbformat_minor": 0,
  "metadata": {
    "colab": {
      "name": "SalesAnalysis.ipynb",
      "provenance": [],
      "authorship_tag": "ABX9TyPwPbioETWv/dWkGscEFWMY",
      "include_colab_link": true
    },
    "kernelspec": {
      "name": "python3",
      "display_name": "Python 3"
    }
  },
  "cells": [
    {
      "cell_type": "markdown",
      "metadata": {
        "id": "view-in-github",
        "colab_type": "text"
      },
      "source": [
        "<a href=\"https://colab.research.google.com/github/konorbj/sales_forecast/blob/master/SalesAnalysis.ipynb\" target=\"_parent\"><img src=\"https://colab.research.google.com/assets/colab-badge.svg\" alt=\"Open In Colab\"/></a>"
      ]
    },
    {
      "cell_type": "code",
      "metadata": {
        "id": "s52ivmJPJ8__",
        "colab_type": "code",
        "colab": {}
      },
      "source": [
        "import scipy\n",
        "import numpy as np\n",
        "import pandas as pd\n",
        "from dateutil.parser import parse\n",
        "\n",
        "from google.colab import drive\n",
        "from statsmodels.tsa.stattools import adfuller"
      ],
      "execution_count": null,
      "outputs": []
    },
    {
      "cell_type": "code",
      "metadata": {
        "id": "WLo0M_r-Ksqf",
        "colab_type": "code",
        "colab": {
          "base_uri": "https://localhost:8080/",
          "height": 122
        },
        "outputId": "27c4aa1d-3fdf-437f-b6de-bdea5ea2fabe"
      },
      "source": [
        "drive.mount('/content/gdrive')"
      ],
      "execution_count": null,
      "outputs": [
        {
          "output_type": "stream",
          "text": [
            "Go to this URL in a browser: https://accounts.google.com/o/oauth2/auth?client_id=947318989803-6bn6qk8qdgf4n4g3pfee6491hc0brc4i.apps.googleusercontent.com&redirect_uri=urn%3aietf%3awg%3aoauth%3a2.0%3aoob&response_type=code&scope=email%20https%3a%2f%2fwww.googleapis.com%2fauth%2fdocs.test%20https%3a%2f%2fwww.googleapis.com%2fauth%2fdrive%20https%3a%2f%2fwww.googleapis.com%2fauth%2fdrive.photos.readonly%20https%3a%2f%2fwww.googleapis.com%2fauth%2fpeopleapi.readonly\n",
            "\n",
            "Enter your authorization code:\n",
            "··········\n",
            "Mounted at /content/gdrive\n"
          ],
          "name": "stdout"
        }
      ]
    },
    {
      "cell_type": "code",
      "metadata": {
        "id": "wfHVgJBkK6kn",
        "colab_type": "code",
        "colab": {}
      },
      "source": [
        "df = pd.read_csv('/content/gdrive/My Drive/Sales/SalesByDate.csv')"
      ],
      "execution_count": null,
      "outputs": []
    },
    {
      "cell_type": "code",
      "metadata": {
        "id": "IYbJZqVwLENQ",
        "colab_type": "code",
        "colab": {
          "base_uri": "https://localhost:8080/",
          "height": 204
        },
        "outputId": "bc24103e-56dd-4f33-c216-8c3af671291d"
      },
      "source": [
        "df.head()"
      ],
      "execution_count": null,
      "outputs": [
        {
          "output_type": "execute_result",
          "data": {
            "text/html": [
              "<div>\n",
              "<style scoped>\n",
              "    .dataframe tbody tr th:only-of-type {\n",
              "        vertical-align: middle;\n",
              "    }\n",
              "\n",
              "    .dataframe tbody tr th {\n",
              "        vertical-align: top;\n",
              "    }\n",
              "\n",
              "    .dataframe thead th {\n",
              "        text-align: right;\n",
              "    }\n",
              "</style>\n",
              "<table border=\"1\" class=\"dataframe\">\n",
              "  <thead>\n",
              "    <tr style=\"text-align: right;\">\n",
              "      <th></th>\n",
              "      <th>Date_Part</th>\n",
              "      <th>Year</th>\n",
              "      <th>Sales</th>\n",
              "    </tr>\n",
              "  </thead>\n",
              "  <tbody>\n",
              "    <tr>\n",
              "      <th>0</th>\n",
              "      <td>Jan 1, 2016</td>\n",
              "      <td>2016</td>\n",
              "      <td>204</td>\n",
              "    </tr>\n",
              "    <tr>\n",
              "      <th>1</th>\n",
              "      <td>Jan 2, 2016</td>\n",
              "      <td>2016</td>\n",
              "      <td>5615</td>\n",
              "    </tr>\n",
              "    <tr>\n",
              "      <th>2</th>\n",
              "      <td>Jan 3, 2016</td>\n",
              "      <td>2016</td>\n",
              "      <td>828</td>\n",
              "    </tr>\n",
              "    <tr>\n",
              "      <th>3</th>\n",
              "      <td>Jan 4, 2016</td>\n",
              "      <td>2016</td>\n",
              "      <td>2607</td>\n",
              "    </tr>\n",
              "    <tr>\n",
              "      <th>4</th>\n",
              "      <td>Jan 5, 2016</td>\n",
              "      <td>2016</td>\n",
              "      <td>2518</td>\n",
              "    </tr>\n",
              "  </tbody>\n",
              "</table>\n",
              "</div>"
            ],
            "text/plain": [
              "     Date_Part  Year  Sales\n",
              "0  Jan 1, 2016  2016    204\n",
              "1  Jan 2, 2016  2016   5615\n",
              "2  Jan 3, 2016  2016    828\n",
              "3  Jan 4, 2016  2016   2607\n",
              "4  Jan 5, 2016  2016   2518"
            ]
          },
          "metadata": {
            "tags": []
          },
          "execution_count": 4
        }
      ]
    },
    {
      "cell_type": "code",
      "metadata": {
        "id": "r_k13PTCLZHo",
        "colab_type": "code",
        "colab": {
          "base_uri": "https://localhost:8080/",
          "height": 170
        },
        "outputId": "a7f767a4-e28d-4c05-ed63-b0209869e9d5"
      },
      "source": [
        "df['Sales'].describe()"
      ],
      "execution_count": null,
      "outputs": [
        {
          "output_type": "execute_result",
          "data": {
            "text/plain": [
              "count     1651.000000\n",
              "mean      3060.120533\n",
              "std       2585.821457\n",
              "min          1.000000\n",
              "25%       1445.000000\n",
              "50%       2214.000000\n",
              "75%       3882.500000\n",
              "max      19078.000000\n",
              "Name: Sales, dtype: float64"
            ]
          },
          "metadata": {
            "tags": []
          },
          "execution_count": 5
        }
      ]
    },
    {
      "cell_type": "markdown",
      "metadata": {
        "id": "vBYkx86zuK0G",
        "colab_type": "text"
      },
      "source": [
        "# Check for stationarity and count sample entropy"
      ]
    },
    {
      "cell_type": "code",
      "metadata": {
        "id": "bEtQstKBLfQ_",
        "colab_type": "code",
        "colab": {
          "base_uri": "https://localhost:8080/",
          "height": 102
        },
        "outputId": "87e54a24-8e32-423b-c0da-5b32b573a10d"
      },
      "source": [
        "X = df['Sales'].values\n",
        "X = np.log(X)\n",
        "result = adfuller(X)\n",
        "print('ADF Statistic: %f' % result[0])\n",
        "print('p-value: %f' % result[1])\n",
        "for key, value in result[4].items():\n",
        "\tprint('\\t%s: %.3f' % (key, value))"
      ],
      "execution_count": null,
      "outputs": [
        {
          "output_type": "stream",
          "text": [
            "ADF Statistic: -4.852573\n",
            "p-value: 0.000043\n",
            "\t1%: -3.434\n",
            "\t5%: -2.863\n",
            "\t10%: -2.568\n"
          ],
          "name": "stdout"
        }
      ]
    },
    {
      "cell_type": "code",
      "metadata": {
        "id": "3A-HQTb3Msdr",
        "colab_type": "code",
        "colab": {}
      },
      "source": [
        "def sampen(L, m, r):\n",
        "    N = len(L)\n",
        "    B = 0.0\n",
        "    A = 0.0\n",
        "    \n",
        "    \n",
        "    # Split time series and save all templates of length m\n",
        "    xmi = np.array([L[i : i + m] for i in range(N - m)])\n",
        "    xmj = np.array([L[i : i + m] for i in range(N - m + 1)])\n",
        "\n",
        "    # Save all matches minus the self-match, compute B\n",
        "    B = np.sum([np.sum(np.abs(xmii - xmj).max(axis=1) <= r) - 1 for xmii in xmi])\n",
        "\n",
        "    # Similar for computing A\n",
        "    m += 1\n",
        "    xm = np.array([L[i : i + m] for i in range(N - m + 1)])\n",
        "\n",
        "    A = np.sum([np.sum(np.abs(xmi - xm).max(axis=1) <= r) - 1 for xmi in xm])\n",
        "\n",
        "    # Return SampEn\n",
        "    return -np.log(A / B)"
      ],
      "execution_count": null,
      "outputs": []
    },
    {
      "cell_type": "code",
      "metadata": {
        "id": "lI44m8yHOC7-",
        "colab_type": "code",
        "colab": {
          "base_uri": "https://localhost:8080/",
          "height": 34
        },
        "outputId": "1118ea8a-61b3-4df2-cd74-64940e9c39a0"
      },
      "source": [
        "sampen(df['Sales'], 2, np.std(df['Sales']) * 0.2)"
      ],
      "execution_count": null,
      "outputs": [
        {
          "output_type": "execute_result",
          "data": {
            "text/plain": [
              "0.7395657878048252"
            ]
          },
          "metadata": {
            "tags": []
          },
          "execution_count": 8
        }
      ]
    },
    {
      "cell_type": "markdown",
      "metadata": {
        "id": "197ooXmNuVNz",
        "colab_type": "text"
      },
      "source": [
        "# Apply difference transform to the time series"
      ]
    },
    {
      "cell_type": "code",
      "metadata": {
        "id": "b4NIClW1KF4O",
        "colab_type": "code",
        "colab": {}
      },
      "source": [
        "series = pd.read_csv('/content/gdrive/My Drive/Sales/SalesByDate.csv',\n",
        "                     index_col='Date_Part', parse_dates=True)\n",
        "series.drop(columns=['Year'], inplace=True)"
      ],
      "execution_count": null,
      "outputs": []
    },
    {
      "cell_type": "code",
      "metadata": {
        "id": "2iXzTzeZKTsZ",
        "colab_type": "code",
        "colab": {
          "base_uri": "https://localhost:8080/",
          "height": 235
        },
        "outputId": "c826b328-b686-4050-b3a6-c319f5202769"
      },
      "source": [
        "series.head()"
      ],
      "execution_count": null,
      "outputs": [
        {
          "output_type": "execute_result",
          "data": {
            "text/html": [
              "<div>\n",
              "<style scoped>\n",
              "    .dataframe tbody tr th:only-of-type {\n",
              "        vertical-align: middle;\n",
              "    }\n",
              "\n",
              "    .dataframe tbody tr th {\n",
              "        vertical-align: top;\n",
              "    }\n",
              "\n",
              "    .dataframe thead th {\n",
              "        text-align: right;\n",
              "    }\n",
              "</style>\n",
              "<table border=\"1\" class=\"dataframe\">\n",
              "  <thead>\n",
              "    <tr style=\"text-align: right;\">\n",
              "      <th></th>\n",
              "      <th>Sales</th>\n",
              "    </tr>\n",
              "    <tr>\n",
              "      <th>Date_Part</th>\n",
              "      <th></th>\n",
              "    </tr>\n",
              "  </thead>\n",
              "  <tbody>\n",
              "    <tr>\n",
              "      <th>2016-01-01</th>\n",
              "      <td>204</td>\n",
              "    </tr>\n",
              "    <tr>\n",
              "      <th>2016-01-02</th>\n",
              "      <td>5615</td>\n",
              "    </tr>\n",
              "    <tr>\n",
              "      <th>2016-01-03</th>\n",
              "      <td>828</td>\n",
              "    </tr>\n",
              "    <tr>\n",
              "      <th>2016-01-04</th>\n",
              "      <td>2607</td>\n",
              "    </tr>\n",
              "    <tr>\n",
              "      <th>2016-01-05</th>\n",
              "      <td>2518</td>\n",
              "    </tr>\n",
              "  </tbody>\n",
              "</table>\n",
              "</div>"
            ],
            "text/plain": [
              "            Sales\n",
              "Date_Part        \n",
              "2016-01-01    204\n",
              "2016-01-02   5615\n",
              "2016-01-03    828\n",
              "2016-01-04   2607\n",
              "2016-01-05   2518"
            ]
          },
          "metadata": {
            "tags": []
          },
          "execution_count": 134
        }
      ]
    },
    {
      "cell_type": "code",
      "metadata": {
        "id": "zuNtKizrKgjP",
        "colab_type": "code",
        "colab": {}
      },
      "source": [
        "from datetime import timedelta\n",
        "\n",
        "freq_data = pd.infer_freq(series.index)\n",
        "df_time_delta = pd.to_timedelta(pd.tseries.frequencies.to_offset(freq_data))\n",
        "\n",
        "time_lags_expected = [int(timedelta(days=1) / df_time_delta), \n",
        "                      int(timedelta(days=7) / df_time_delta), \n",
        "                      int(timedelta(days=365) / df_time_delta),\n",
        "                      int(timedelta(days=183) / df_time_delta),\n",
        "                      int(timedelta(days=90) / df_time_delta),]"
      ],
      "execution_count": null,
      "outputs": []
    },
    {
      "cell_type": "code",
      "metadata": {
        "id": "tfLFL6EuLmWM",
        "colab_type": "code",
        "colab": {}
      },
      "source": [
        "from scipy.fftpack import fft, fftfreq\n",
        "\n",
        "# get top 3 seasons\n",
        "no_of_seasons=5\n",
        "nseries = np.asarray(series['Sales'])\n",
        "# Compute FFT\n",
        "series_fft = fft(nseries)\n",
        "\n",
        "# Compute the power\n",
        "power = np.abs(series_fft)\n",
        "\n",
        "# Get the corresponding frequencies\n",
        "sample_freq = fftfreq(series_fft.size)\n",
        "\n",
        "# Find the peak frequency: we only need the positive frequencies\n",
        "pos_mask = np.where(sample_freq > 0)\n",
        "freqs = sample_freq[pos_mask]\n",
        "powers = power[pos_mask]\n",
        "\n",
        "# find top frequencies and corresponding time periods for seasonal pattern\n",
        "top_powers = np.argpartition(powers, -no_of_seasons)[-no_of_seasons:]\n",
        "\n",
        "time_periods_from_fft = 1 / freqs[top_powers]\n",
        "time_periods = time_periods_from_fft.astype(int)"
      ],
      "execution_count": null,
      "outputs": []
    },
    {
      "cell_type": "code",
      "metadata": {
        "id": "8tjpDrtHMHwg",
        "colab_type": "code",
        "colab": {
          "base_uri": "https://localhost:8080/",
          "height": 156
        },
        "outputId": "e6839b51-dc86-47d1-a88e-ce322e1c3f12"
      },
      "source": [
        "from statsmodels.tsa.stattools import acf\n",
        "\n",
        "# One of the seasonality returned from FFT should be within range of Expected time period\n",
        "for time_lag in time_lags_expected:\n",
        "    nearest_time_lag = time_periods.flat[np.abs(time_periods - time_lag).argmin()]\n",
        "    \n",
        "    #Using 5% for range comparison\n",
        "    if nearest_time_lag in range(\n",
        "            time_lag - int(0.05 * time_lag),\n",
        "            time_lag + int(0.05 * time_lag)):\n",
        "\n",
        "        # Check ACF value with lags identified from FFT.\n",
        "        acf_score = acf(series, nlags=nearest_time_lag)[-1]\n",
        "        \n",
        "        # Check ACF is significant or not.\n",
        "        if acf_score >= 2 / np.sqrt(len(series)):\n",
        "            # ACF is significant and FFT identifies seasonality\n",
        "            print('Metrics is seasonal')\n",
        "        else:\n",
        "            print('ACF value is not significant')\n",
        "    else:\n",
        "        print('Seasonality could not be identified')\n",
        "        "
      ],
      "execution_count": null,
      "outputs": [
        {
          "output_type": "stream",
          "text": [
            "Seasonality could not be identified\n",
            "Seasonality could not be identified\n",
            "Seasonality could not be identified\n",
            "Metrics is seasonal\n",
            "ACF value is not significant\n"
          ],
          "name": "stdout"
        },
        {
          "output_type": "stream",
          "text": [
            "/usr/local/lib/python3.6/dist-packages/statsmodels/tsa/stattools.py:541: FutureWarning: fft=True will become the default in a future version of statsmodels. To suppress this warning, explicitly set fft=False.\n",
            "  warnings.warn(msg, FutureWarning)\n"
          ],
          "name": "stderr"
        }
      ]
    },
    {
      "cell_type": "code",
      "metadata": {
        "id": "iJpnYWL_Os4X",
        "colab_type": "code",
        "colab": {
          "base_uri": "https://localhost:8080/",
          "height": 258
        },
        "outputId": "2a96fca3-d839-440b-e626-b894f02a0d66"
      },
      "source": [
        "from statsmodels.tsa.stattools import kpss\n",
        "def kpss_test(series, **kw):    \n",
        "    statistic, p_value, n_lags, critical_values = kpss(series, **kw)\n",
        "    # Format Output\n",
        "    print(f'KPSS Statistic: {statistic}')\n",
        "    print(f'p-value: {p_value}')\n",
        "    print(f'num lags: {n_lags}')\n",
        "    print('Critial Values:')\n",
        "    for key, value in critical_values.items():\n",
        "        print(f'   {key} : {value}')\n",
        "    print(f'Result: The series is {\"not \" if p_value < 0.05 else \"\"}stationary')\n",
        "\n",
        "kpss_test(df['Sales'])"
      ],
      "execution_count": null,
      "outputs": [
        {
          "output_type": "stream",
          "text": [
            "KPSS Statistic: 0.2528451636081054\n",
            "p-value: 0.1\n",
            "num lags: 25\n",
            "Critial Values:\n",
            "   10% : 0.347\n",
            "   5% : 0.463\n",
            "   2.5% : 0.574\n",
            "   1% : 0.739\n",
            "Result: The series is stationary\n"
          ],
          "name": "stdout"
        },
        {
          "output_type": "stream",
          "text": [
            "/usr/local/lib/python3.6/dist-packages/statsmodels/tsa/stattools.py:1685: FutureWarning: The behavior of using lags=None will change in the next release. Currently lags=None is the same as lags='legacy', and so a sample-size lag length is used. After the next release, the default will change to be the same as lags='auto' which uses an automatic lag length selection method. To silence this warning, either use 'auto' or 'legacy'\n",
            "  warn(msg, FutureWarning)\n",
            "/usr/local/lib/python3.6/dist-packages/statsmodels/tsa/stattools.py:1711: InterpolationWarning: p-value is greater than the indicated p-value\n",
            "  warn(\"p-value is greater than the indicated p-value\", InterpolationWarning)\n"
          ],
          "name": "stderr"
        }
      ]
    },
    {
      "cell_type": "code",
      "metadata": {
        "id": "9NzBAEYUUkWW",
        "colab_type": "code",
        "colab": {
          "base_uri": "https://localhost:8080/",
          "height": 153
        },
        "outputId": "6df324f2-d155-4bb3-ce82-b3935afc0687"
      },
      "source": [
        "series = df['Sales']\n",
        "result = adfuller(series, autolag='AIC')\n",
        "print(f'ADF Statistic: {result[0]}')\n",
        "print(f'p-value: {result[1]}')\n",
        "for key, value in result[4].items():\n",
        "    print('Critial Values:')\n",
        "    print(f'   {key}, {value}')"
      ],
      "execution_count": null,
      "outputs": [
        {
          "output_type": "stream",
          "text": [
            "ADF Statistic: -5.773421619779879\n",
            "p-value: 5.326991877177091e-07\n",
            "Critial Values:\n",
            "   1%, -3.434380559955255\n",
            "Critial Values:\n",
            "   5%, -2.8633202588932547\n",
            "Critial Values:\n",
            "   10%, -2.567717771455621\n"
          ],
          "name": "stdout"
        }
      ]
    }
  ]
}
